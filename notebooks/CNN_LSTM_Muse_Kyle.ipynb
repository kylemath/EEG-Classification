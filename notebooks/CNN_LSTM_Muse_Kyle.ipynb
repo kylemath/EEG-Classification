{
  "nbformat": 4,
  "nbformat_minor": 0,
  "metadata": {
    "colab": {
      "name": "CNN_LSTM_2_Kyle.ipynb",
      "version": "0.3.2",
      "provenance": [],
      "include_colab_link": true
    },
    "kernelspec": {
      "name": "python3",
      "display_name": "Python 3"
    },
    "accelerator": "GPU"
  },
  "cells": [
    {
      "cell_type": "markdown",
      "metadata": {
        "id": "view-in-github",
        "colab_type": "text"
      },
      "source": [
        "<a href=\"https://colab.research.google.com/github/kylemath/EEG-Classification/blob/master/notebooks/CNN_LSTM_Muse_Kyle.ipynb\" target=\"_parent\"><img src=\"https://colab.research.google.com/assets/colab-badge.svg\" alt=\"Open In Colab\"/></a>"
      ]
    },
    {
      "metadata": {
        "id": "cH7KRd8ZZPMd",
        "colab_type": "text"
      },
      "cell_type": "markdown",
      "source": [
        "## CNN_LSTM_MUSE_Kyle\n",
        "\n",
        "Goal is to make a CNN LSTM stack that processes Muse eeg-notebook EEG trials as input and predicts binary trial category as output.\n",
        "\n",
        "Strategy:\n",
        "* Load in Muse data, and turn into square images with n channels. \n",
        "* Try 49  by 49 data point long spectra for each trial \n",
        "* Predict attend left vs attend right on muse 375 data\n",
        "\n",
        "API:\n",
        "* Want to input the data directory of any eeg-notebook experiment (https://github.com/kylemath/eeg-notebooks) \n",
        "\n",
        "LearningModels:\n",
        "* First try simple CNN\n",
        "* then add in LSTM component to treat time as recurrent\n",
        "\n",
        "DataModels:\n",
        "* First pool data over subjects\n",
        "* Try subject specific models\n",
        "* Then try multilevel models\n",
        "\n",
        "Using: \n",
        "* https://github.com/pbashivan/EEGLearn\n",
        "* https://github.com/tevisgehr/EEG-Classification\n",
        "* https://github.com/kylemath/eeg-notebooks\n",
        "* https://github.com/keras-team/keras/blob/master/examples/imdb_cnn_lstm.py\n",
        "\n",
        "Resources:\n",
        "*   http://proceedings.mlr.press/v56/Thodoroff16.pdf\n",
        "*   https://arxiv.org/abs/1511.06448\n",
        "\n",
        "\n"
      ]
    },
    {
      "metadata": {
        "id": "akRdj-robUCZ",
        "colab_type": "text"
      },
      "cell_type": "markdown",
      "source": [
        "**TODO Kory Jan 20** \n",
        "\n",
        "1. substitute totally random data for your input data or \n",
        "\n",
        "14. Also, you can try `np.random.shuffle(y_train)` and see how it performs on randomly shuffled input data.         \n",
        "\n",
        "\n",
        "16. Might want to use stratify on the train_test_split\n",
        "\n",
        "\n",
        "20. I have no notion that it should be able to differentiate the two classes. Can you do any sort of unsupervised learning to show that there are significant differences in the distribution? Plot the distributions, scatter the PCA's in 2d, do something that shows that there is a separation line...  At this point,you can fiddle and futz with hyperparameters all day long, but there is nothing better than random performance for those features.\n",
        "\n",
        "22. Plot loss with plt.semilogy\n",
        "\n",
        "15. Also. Do you have a validation set? Best to ask early. \n",
        "\n",
        "21. How does number of features relate to number of data points relate to number of parameters? [link](https://www.youtube.com/watch?v=Dc0sr0kdBVI&hd=1#t=57m20s)\n",
        "\n",
        "              \n",
        "Done\n",
        "1. this line is confusing?` sub = isub `\n",
        "2. some long lines of code make it less readable... try to keep code within the dotted line\n",
        "6. There are moments when raw sizes are printed, try to give them some context with\n",
        "\n",
        "         `print( ' right cue data size: {}'format(tfr.data.shape))` \n",
        "          (1063, 2, 49, 49) (1063, 49, 49, 2) \n",
        "18. regarding epochs. Don't redefine `epochs = 100` it makes co rerunning hard.\n",
        "8. `to_categorical()` before the train test split\n",
        "7. not sure what I am seeing in the 2 subplots... there is a y-axis label missing for top / bottom\n",
        " * *Changed Label above, multi instances*\n",
        "9. all your imports should go at the top of the file and not in the cell it is used in\n",
        "4. for instance, there is a plot at the end of : `raw.plot_psd(fmin=1, fmax=30 );` that i missed because it was below 100 of the same status line\n",
        " * *removed it not important*\n",
        "24. categorical_crossentropy was right for your categorical mod\n",
        "12. loss function can be `binary_crossentropy` i think\n",
        "\n",
        "\n",
        "        model.compile(loss='categorical_crossentropy',\n",
        "              optimizer=opt,\n",
        "              metrics=['accuracy'])\n",
        "              \n",
        "14. Looks like it is over fitting on random noise and then performing about the same as a random baseline? Two balanced classes on output would give 50% accuracy. What is the output classes distritbution of training and test sets? \n",
        "\n",
        "   * *About Random 50/50* \n",
        "   \n",
        "16. Looks like there is some signal found but not much. How long does training take? Time per epcoh/step\n",
        "17. Plot you learning rate over time. Does it decay to zero?\n",
        "  * *These are both in code output*\n",
        "18. What is your batch size? Can you try with smaller batches? Bigger batches? Are batches shuffles after each epoch? \n",
        "  * *Tried these, small and large, no effect*\n",
        "23. I use Adam almost consistently for optimizer\n",
        "        opt = keras.optimizers.Adam(lr=0.001, beta_1=0.9, beta_2=0.999, \n",
        "                            epsilon=None, decay=0.0, amsgrad=False)\n",
        "24. Start with a very small model. Conv layers only. No lstm for instance. This could be a function of vanichsing gradients in the recurrent layers. \n",
        "20. What is the data shape? Can you show the whole input to the model rather than feeding in recurrent? \n",
        "  * *This is just a CNN right now, withonly two layers*\n",
        "17. Also, you always want to set the random seed explicitly for ML research, `np.random.seed(1017)` random_state in train_test_split. this will help with reproducibility testing.\n",
        "2. Long output logs are confusing as fuck. Can you use tqdm or something similar to show progress rather than listing a bit meaningless status?\n",
        "10. add a `model.summary() ` somewhere, it gives you a sense of the model in plaintext. (Trainable params: 174,592) 11) \n",
        "11. you use two different definitions of the word epoch in the file. \n",
        "1. each cell (eg. 2) should have a status message if it succeded or failed.\n",
        "2. mark each image with the answer and see if your CNN visual features can detect. \n",
        "15. You can use `np.ones_like` and `np.zeros_like` to make easy to discern training data. For instance, here is a sanity check, make all the left cues ones, and all the right cues zeros... then make a model that fits on that.\n"
      ]
    },
    {
      "metadata": {
        "id": "Kf-1ItUyU380",
        "colab_type": "text"
      },
      "cell_type": "markdown",
      "source": [
        "**Setup**"
      ]
    },
    {
      "metadata": {
        "id": "VXe-o8XtG9ki",
        "colab_type": "code",
        "outputId": "eb93f073-ebf6-4bde-c341-9f4a3cc53fdf",
        "colab": {
          "base_uri": "https://localhost:8080/",
          "height": 131
        }
      },
      "cell_type": "code",
      "source": [
        "!git clone https://github.com/tevisgehr/EEG-Classification.git\n",
        "%cd EEG-Classification\n",
        "from eeg_learn_functions import *\n",
        "%cd ..\n",
        "\n",
        "!git clone https://github.com/kylemath/eeg-notebooks.git\n",
        "%cd eeg-notebooks/notebooks\n",
        "!pip install mne\n",
        "from utils import utils\n",
        "\n",
        "import pandas as pd\n",
        "pd.options.display.max_columns = None\n",
        "pd.options.display.precision = 4\n",
        "\n",
        "import numpy as np\n",
        "from numpy import genfromtxt\n",
        "np.random.seed(1017)\n",
        "\n",
        "from collections import OrderedDict\n",
        "import matplotlib.pyplot as plt\n",
        "%matplotlib inline\n",
        "plt.rcParams[\"figure.figsize\"] = (12,12)\n",
        "\n",
        "import seaborn as sns\n",
        "import scipy.stats as scs\n",
        "import re\n",
        "\n",
        "from IPython.core.display import display, HTML\n",
        "display(HTML(\"<style>.container { width:100% !important; }</style>\"))\n",
        "\n",
        "from mne import Epochs, find_events, concatenate_raws\n",
        "from mne.time_frequency import tfr_morlet\n",
        "\n",
        "import keras\n",
        "from keras.models import Sequential\n",
        "from keras.layers import Dense, Dropout, Activation, Flatten, Conv2D, MaxPooling2D\n",
        "\n",
        "from sklearn.model_selection import train_test_split\n",
        "\n"
      ],
      "execution_count": 1,
      "outputs": [
        {
          "output_type": "stream",
          "text": [
            "fatal: destination path 'EEG-Classification' already exists and is not an empty directory.\n",
            "/content/EEG-Classification\n",
            "/content\n",
            "fatal: destination path 'eeg-notebooks' already exists and is not an empty directory.\n",
            "/content/eeg-notebooks/notebooks\n",
            "Requirement already satisfied: mne in /usr/local/lib/python3.6/dist-packages (0.17.0)\n"
          ],
          "name": "stdout"
        },
        {
          "output_type": "display_data",
          "data": {
            "text/html": [
              "<style>.container { width:100% !important; }</style>"
            ],
            "text/plain": [
              "<IPython.core.display.HTML object>"
            ]
          },
          "metadata": {
            "tags": []
          }
        },
        {
          "output_type": "stream",
          "text": [
            "Using TensorFlow backend.\n"
          ],
          "name": "stderr"
        }
      ]
    },
    {
      "metadata": {
        "id": "yR1WkVZKU2Vm",
        "colab_type": "text"
      },
      "cell_type": "markdown",
      "source": [
        "**Parameters**"
      ]
    },
    {
      "metadata": {
        "id": "QGVIiUbAU1nA",
        "colab_type": "code",
        "colab": {
          "base_uri": "https://localhost:8080/",
          "height": 33
        },
        "outputId": "f8069748-4880-4d93-fd53-99a915830647"
      },
      "cell_type": "code",
      "source": [
        "#Parameters#\n",
        "subs = [101, 102, 103, 104, 105, 106, 108, 109, 110, 111, 112,\n",
        "        202, 203, 204, 205, 207, 208, 209, 210, 211, \n",
        "        301, 302, 303, 304, 305, 306, 307, 308, 309]\n",
        "\n",
        "#subs = [ 205, 207, 208, 209]\n",
        "\n",
        "#subs = [ 302]\n",
        "\n",
        "data_dir = 'visual/cueing'\n",
        "event_ids = ['LeftCue','RightCue']\n",
        "sfreq=256.\n",
        "\n",
        "#filter\n",
        "eeg_filter_highpass = 1\n",
        "eeg_filter_lowpass = 30\n",
        "\n",
        "#artifact rejection\n",
        "rej_thresh_uV = 500\n",
        "rej_thresh = rej_thresh_uV*1e-6\n",
        "\n",
        "#trial epoch limits (must all work together with decimation and frequencies to create square) \n",
        "tmin=-1\n",
        "tmax=2\n",
        "decim=16\n",
        "times_out = int((((tmax-tmin) / (1/sfreq)) / decim)+1)\n",
        "img_rows, img_cols = times_out, times_out\n",
        "baseline=(-1, 0)\n",
        "\n",
        "#wavelet settings\n",
        "f_low = 4\n",
        "f_high = 20\n",
        "frequencies =  np.linspace(4, 20, times_out, endpoint=True)\n",
        "wave_cycles = 6\n",
        "spect_baseline = [-1,-.5]\n",
        "electrodes_out = [0,1,2,3]\n",
        "\n",
        "#Training Settings\n",
        "batch_size = 64\n",
        "train_epochs = 100\n",
        "num_classes = len(event_ids)\n",
        "\n",
        "print('Parameters Set')"
      ],
      "execution_count": 19,
      "outputs": [
        {
          "output_type": "stream",
          "text": [
            "Parameters Set\n"
          ],
          "name": "stdout"
        }
      ]
    },
    {
      "metadata": {
        "id": "g2a98-rwL9wl",
        "colab_type": "text"
      },
      "cell_type": "markdown",
      "source": [
        "**Preprocessing of EEG Data**\n",
        "\n",
        "* LoadData - Each data file is from one session of one subject of the muse cueing task from eeg-notebooks from psych 375 A1 dataset\n",
        "* Filtering - Most ERP components are composed of lower frequency fluctuations in the EEG signal. Thus, we can filter out all frequencies between 1 and 30 hz in order to increase our ability to detect them.\n",
        "* Epoching - Next, we will chunk (epoch) the data into segments representing the data 1000ms before to 2000ms after each cue, we will reject every epoch where the amplitude of the signal exceeded 100 uV, which should most eye blinks."
      ]
    },
    {
      "metadata": {
        "id": "6A3mgX7ILZFK",
        "colab_type": "code",
        "outputId": "c6e8d049-c08f-479f-dd80-f36d876b58fa",
        "colab": {
          "base_uri": "https://localhost:8080/",
          "height": 570
        }
      },
      "cell_type": "code",
      "source": [
        "#Load Data\n",
        "print('Loading Data')\n",
        "isub = subs[0]\n",
        "print(isub)\n",
        "raw = utils.load_data(data_dir, sfreq=sfreq ,subject_nb=isub, session_nb=1)\n",
        "raw.append(utils.load_data(data_dir, sfreq=sfreq,subject_nb=isub, session_nb=2))\n",
        "for isub in subs[1:]:\n",
        "  print(isub)\n",
        "  raw.append(utils.load_data(data_dir, sfreq=sfreq,subject_nb=isub, session_nb=1))\n",
        "  raw.append(utils.load_data(data_dir, sfreq=sfreq,subject_nb=isub, session_nb=2))\n",
        "  \n",
        "#Filtering\n",
        "print('Filtering Data')\n",
        "raw.filter(eeg_filter_highpass,eeg_filter_lowpass, method='iir', verbose='WARNING' )\n",
        "#raw.plot_psd(fmin=eeg_filter_highpass, fmax=eeg_filter_lowpass );\n",
        "\n",
        "#Epoching\n",
        "event_id = {event_ids[0]: 1, event_ids[1]: 2}\n",
        "events = find_events(raw)\n",
        "epochs = Epochs(raw, events=events, event_id=event_id, \n",
        "                tmin=tmin, tmax=tmax, baseline=baseline, \n",
        "                preload=True,reject={'eeg':rej_thresh},\n",
        "                verbose=False, picks=[0, 1, 2, 3])\n",
        "\n",
        "print('sample drop %: ', (1 - len(epochs.events)/len(events)) * 100)\n",
        "%matplotlib inline\n",
        "conditions = OrderedDict()\n",
        "conditions[event_ids[0]] = [1]\n",
        "conditions[event_ids[1]] = [2]\n",
        "\n",
        "#fig, ax = utils.plot_conditions(epochs, conditions=conditions, ylim=(-20,20) )"
      ],
      "execution_count": 20,
      "outputs": [
        {
          "output_type": "stream",
          "text": [
            "Loading Data\n",
            "101\n",
            "102\n",
            "103\n",
            "104\n",
            "105\n",
            "106\n",
            "108\n",
            "109\n",
            "110\n",
            "111\n",
            "112\n",
            "202\n",
            "203\n",
            "204\n",
            "205\n",
            "207\n",
            "208\n",
            "209\n",
            "210\n",
            "211\n",
            "301\n",
            "302\n",
            "303\n",
            "304\n",
            "305\n",
            "306\n",
            "307\n",
            "308\n",
            "309\n",
            "Filtering Data\n",
            "4583 events found\n",
            "Event IDs: [ 1  2 11 12 21 22]\n",
            "sample drop %:  55.31311368099499\n"
          ],
          "name": "stdout"
        }
      ]
    },
    {
      "metadata": {
        "id": "EmvSu1bOZiO0",
        "colab_type": "text"
      },
      "cell_type": "markdown",
      "source": [
        "** Spectrogram **\n",
        "\n",
        "* All electrodes are considered on each trial, and their difference is used to create a single image for each trial.\n",
        "* Two changes are made here to create a small square output for each trial.\n",
        "* Many frequencies are used in the wavelet analysis (49) while the output of the morlet is decimated in time by a factor of 16. This creates 49x49 spectograms\n",
        "* Now the other condition, right cue, is done, and the two sets of images and labels are concatenated into X and Y variables\n",
        "* X is a trials x 49 x 49 matrix\n",
        "* Y is a trials array of condition labels\n"
      ]
    },
    {
      "metadata": {
        "id": "Xs-_8GRYZar7",
        "colab_type": "code",
        "outputId": "b10893a1-999d-4af8-9c22-6cb821d37211",
        "colab": {
          "base_uri": "https://localhost:8080/",
          "height": 147
        }
      },
      "cell_type": "code",
      "source": [
        "#15. You can use `np.ones_like` and `np.zeros_like` to make easy to discern training data.\n",
        "\n",
        "# Condition0\n",
        "print('Computing Morlet Wavelets on ' + event_ids[0])\n",
        "\n",
        "tfr = tfr_morlet(epochs[event_ids[0]], freqs=frequencies, \n",
        "                      n_cycles=wave_cycles, return_itc=False,\n",
        "                      picks=electrodes_out,average=False,decim=decim)\n",
        "tfr = tfr.apply_baseline(spect_baseline,mode='mean')\n",
        "cond0_power_out = np.moveaxis(tfr.data,1,3)\n",
        "#cond0_power_out[:,0:10,0:10,:] = 0\n",
        "\n",
        "print(event_ids[0] + ' Time Points: ' + str(len(tfr.times)))\n",
        "print(event_ids[0] + ' Frequencies: ' + str(len(tfr.freqs)))\n",
        "\n",
        "#Condition1\n",
        "print('Computing Morlet Wavelets on ' + event_ids[1])\n",
        "tfr = tfr_morlet(epochs[event_ids[1]], freqs=frequencies, \n",
        "                      n_cycles=wave_cycles, return_itc=False,\n",
        "                      picks=electrodes_out,average=False,decim=decim)\n",
        "tfr = tfr.apply_baseline(spect_baseline,mode='mean')\n",
        "cond1_power_out = np.moveaxis(tfr.data,1,3)\n",
        "#cond1_power_out[:,0:10,0:10,:] = 1\n",
        "\n",
        "print(event_ids[1] + ' Time Points: ' + str(len(tfr.times)))\n",
        "print(event_ids[1] + ' Frequencies: ' + str(len(tfr.freqs)))\n",
        "\n",
        "\n"
      ],
      "execution_count": 21,
      "outputs": [
        {
          "output_type": "stream",
          "text": [
            "Computing Morlet Wavelets on LeftCue\n",
            "Applying baseline correction (mode: mean)\n",
            "LeftCue Time Points: 49\n",
            "LeftCue Frequencies: 49\n",
            "Computing Morlet Wavelets on RightCue\n",
            "Applying baseline correction (mode: mean)\n",
            "RightCue Time Points: 49\n",
            "RightCue Frequencies: 49\n"
          ],
          "name": "stdout"
        }
      ]
    },
    {
      "metadata": {
        "id": "WqVTXiwrZxbf",
        "colab_type": "text"
      },
      "cell_type": "markdown",
      "source": [
        "**Prepare Data for Model**\n"
      ]
    },
    {
      "metadata": {
        "id": "4xyrsW2kZW8D",
        "colab_type": "code",
        "outputId": "64d659b9-8d49-49c9-86a1-bed4daca0d00",
        "colab": {
          "base_uri": "https://localhost:8080/",
          "height": 667
        }
      },
      "cell_type": "code",
      "source": [
        "#Append Data\n",
        "X = np.append(cond0_power_out,cond1_power_out,0);\n",
        "Y = np.append(np.zeros(len(cond0_power_out)), np.ones(len(cond1_power_out)),0);\n",
        "\n",
        "print('Combined X Shape: ' + str(X.shape))\n",
        "print('Combined Y Shape: ' + str(Y.shape))\n",
        "print('Combined Y: ' + str(Y))\n",
        "\n",
        "X = (X - np.mean(X)) / np.std(X)\n",
        "\n",
        "print(np.min(X))\n",
        "print(np.max(X))\n",
        "\n",
        "vmin = (np.std(X)/10) * -1\n",
        "vmax = np.std(X)/10  \n",
        "\n",
        "#Plot Example Data\n",
        "f, axarr = plt.subplots(2,2, figsize = (8,8))\n",
        "axarr[0][0].set_title(event_ids[0])\n",
        "axarr[0][0].imshow(X[0,:,:,1],vmin=vmin, vmax=vmax)\n",
        "\n",
        "axarr[0][0].invert_yaxis()\n",
        "axarr[1][0].imshow(X[1,:,:,1],vmin=vmin, vmax=vmax)\n",
        "axarr[1][0].invert_yaxis()\n",
        "\n",
        "axarr[0][1].set_title(event_ids[1])\n",
        "axarr[0][1].imshow(X[-1,:,:,1],vmin=vmin, vmax=vmax)\n",
        "axarr[0][1].invert_yaxis()\n",
        "axarr[1][1].imshow(X[-2,:,:,1],vmin=vmin, vmax=vmax)\n",
        "axarr[1][1].invert_yaxis()\n",
        ";\n",
        "\n",
        "# convert class vectors to binary class matrices and recast X\n",
        "Y = keras.utils.to_categorical(Y, num_classes)\n",
        "X = X.astype('float32')\n",
        "\n",
        "# Split training and test data and recast\n",
        "x_train, x_test, y_train, y_test = train_test_split(X, Y, test_size=0.20,shuffle=True)\n",
        "\n",
        "# Compute model input shape\n",
        "input_shape = (img_rows, img_cols, len(electrodes_out))\n",
        "\n",
        "print('Input Shape: ' + str(input_shape))\n",
        "print('x_train shape:', x_train.shape)\n",
        "print(x_train.shape[0], 'train samples')\n",
        "print(x_test.shape[0], 'test samples')\n",
        "print('X Examples:')\n"
      ],
      "execution_count": 22,
      "outputs": [
        {
          "output_type": "stream",
          "text": [
            "Combined X Shape: (2048, 49, 49, 4)\n",
            "Combined Y Shape: (2048,)\n",
            "Combined Y: [0. 0. 0. ... 1. 1. 1.]\n",
            "-35.18731294892749\n",
            "61.14648235453981\n",
            "Input Shape: (49, 49, 4)\n",
            "x_train shape: (1638, 49, 49, 4)\n",
            "1638 train samples\n",
            "410 test samples\n",
            "X Examples:\n"
          ],
          "name": "stdout"
        },
        {
          "output_type": "display_data",
          "data": {
            "image/png": "[encoded data removed]",
            "text/plain": [
              "<Figure size 576x576 with 4 Axes>"
            ]
          },
          "metadata": {
            "tags": []
          }
        }
      ]
    },
    {
      "metadata": {
        "id": "mKzYDoF1TQmK",
        "colab_type": "text"
      },
      "cell_type": "markdown",
      "source": [
        "**Build Model and Train**"
      ]
    },
    {
      "metadata": {
        "scrolled": false,
        "id": "JxjbgyC5G7AZ",
        "colab_type": "code",
        "outputId": "68d9b4ea-16bc-4267-f853-c84f6b9acd8e",
        "colab": {
          "base_uri": "https://localhost:8080/",
          "height": 4086
        }
      },
      "cell_type": "code",
      "source": [
        "#DenseFeedforward Network\n",
        "model = Sequential()\n",
        "model.add(Flatten())\n",
        "model.add(Dense(100, activation='relu', input_dim=input_shape))\n",
        "model.add(Dense(2, activation='softmax'))\n",
        "\n",
        "\n",
        "#model.add(Dropout(.10))\n",
        "\n",
        "# Create CNN in keras\n",
        "#model = Sequential()\n",
        "#model.add(Conv2D(64, (3, 3), input_shape=input_shape))\n",
        "#model.add(Activation('relu'))\n",
        "#model.add(Conv2D(32, (3, 3)))\n",
        "#model.add(Activation('relu'))\n",
        "#model.add(MaxPooling2D(pool_size=(2, 2)))\n",
        "#model.add(Flatten())\n",
        "#model.add(Dense(10))\n",
        "#model.add(Activation('relu'))\n",
        "#model.add(Dense(num_classes))\n",
        "#model.add(Activation('softmax'))\n",
        "\n",
        "# initiate adam optimizer\n",
        "opt = keras.optimizers.Adam(lr=0.001, beta_1=0.9, beta_2=0.999, \n",
        "                            epsilon=None, decay=0.0, amsgrad=False)\n",
        "\n",
        "# Let's train the model using RMSprop\n",
        "model.compile(loss='categorical_crossentropy',\n",
        "              optimizer=opt,\n",
        "              metrics=['accuracy'])\n",
        "\n",
        "\n",
        "\n",
        "#Train Model\n",
        "history = model.fit(x_train, y_train,\n",
        "          batch_size=batch_size,\n",
        "          epochs=train_epochs,\n",
        "          validation_data=(x_test, y_test),\n",
        "          shuffle=True,\n",
        "          verbose=True)\n",
        "         \n",
        "#Summarize\n",
        "model.summary()\n",
        " \n",
        "  \n",
        "# list all data in history\n",
        "print(history.history.keys())\n",
        "# summarize history for accuracy\n",
        "plt.plot(history.history['acc'])\n",
        "plt.plot(history.history['val_acc'])\n",
        "plt.title('model accuracy')\n",
        "plt.ylabel('accuracy')\n",
        "plt.xlabel('epoch')\n",
        "plt.legend(['train', 'test'], loc='upper left')\n",
        "plt.show()\n",
        "# summarize history for loss\n",
        "plt.plot(history.history['loss'])\n",
        "plt.plot(history.history['val_loss'])\n",
        "plt.title('model loss')\n",
        "plt.ylabel('loss')\n",
        "plt.xlabel('epoch')\n",
        "plt.legend(['train', 'test'], loc='upper left')\n",
        "plt.show()"
      ],
      "execution_count": 23,
      "outputs": [
        {
          "output_type": "stream",
          "text": [
            "Train on 1638 samples, validate on 410 samples\n",
            "Epoch 1/100\n",
            "1638/1638 [==============================] - 1s 430us/step - loss: 1.9490 - acc: 0.4792 - val_loss: 1.4446 - val_acc: 0.4659\n",
            "Epoch 2/100\n",
            "1638/1638 [==============================] - 0s 122us/step - loss: 1.7206 - acc: 0.5513 - val_loss: 1.7268 - val_acc: 0.4878\n",
            "Epoch 3/100\n",
            "1638/1638 [==============================] - 0s 124us/step - loss: 1.2540 - acc: 0.5702 - val_loss: 1.3007 - val_acc: 0.5000\n",
            "Epoch 4/100\n",
            "1638/1638 [==============================] - 0s 127us/step - loss: 1.1855 - acc: 0.5916 - val_loss: 1.4250 - val_acc: 0.5122\n",
            "Epoch 5/100\n",
            "1638/1638 [==============================] - 0s 127us/step - loss: 1.0752 - acc: 0.6099 - val_loss: 1.4985 - val_acc: 0.4927\n",
            "Epoch 6/100\n",
            "1638/1638 [==============================] - 0s 124us/step - loss: 0.9541 - acc: 0.6239 - val_loss: 1.0859 - val_acc: 0.4610\n",
            "Epoch 7/100\n",
            "1638/1638 [==============================] - 0s 120us/step - loss: 0.7985 - acc: 0.6203 - val_loss: 1.0573 - val_acc: 0.4976\n",
            "Epoch 8/100\n",
            "1638/1638 [==============================] - 0s 131us/step - loss: 0.7122 - acc: 0.6319 - val_loss: 0.9596 - val_acc: 0.4854\n",
            "Epoch 9/100\n",
            "1638/1638 [==============================] - 0s 129us/step - loss: 0.6843 - acc: 0.6325 - val_loss: 0.8831 - val_acc: 0.5146\n",
            "Epoch 10/100\n",
            "1638/1638 [==============================] - 0s 123us/step - loss: 0.6047 - acc: 0.6575 - val_loss: 0.8761 - val_acc: 0.4951\n",
            "Epoch 11/100\n",
            "1638/1638 [==============================] - 0s 123us/step - loss: 0.5930 - acc: 0.6697 - val_loss: 1.0142 - val_acc: 0.4683\n",
            "Epoch 12/100\n",
            "1638/1638 [==============================] - 0s 126us/step - loss: 0.5801 - acc: 0.6728 - val_loss: 0.9928 - val_acc: 0.4951\n",
            "Epoch 13/100\n",
            "1638/1638 [==============================] - 0s 122us/step - loss: 0.5663 - acc: 0.6734 - val_loss: 0.9560 - val_acc: 0.4780\n",
            "Epoch 14/100\n",
            "1638/1638 [==============================] - 0s 129us/step - loss: 0.5714 - acc: 0.6844 - val_loss: 0.9323 - val_acc: 0.4805\n",
            "Epoch 15/100\n",
            "1638/1638 [==============================] - 0s 122us/step - loss: 0.5788 - acc: 0.6770 - val_loss: 1.0377 - val_acc: 0.5098\n",
            "Epoch 16/100\n",
            "1638/1638 [==============================] - 0s 126us/step - loss: 0.5892 - acc: 0.6752 - val_loss: 1.0253 - val_acc: 0.4854\n",
            "Epoch 17/100\n",
            "1638/1638 [==============================] - 0s 124us/step - loss: 0.6181 - acc: 0.6587 - val_loss: 0.9693 - val_acc: 0.4976\n",
            "Epoch 18/100\n",
            "1638/1638 [==============================] - 0s 122us/step - loss: 0.5602 - acc: 0.6880 - val_loss: 0.9673 - val_acc: 0.5146\n",
            "Epoch 19/100\n",
            "1638/1638 [==============================] - 0s 129us/step - loss: 0.5474 - acc: 0.7051 - val_loss: 0.9654 - val_acc: 0.5220\n",
            "Epoch 20/100\n",
            "1638/1638 [==============================] - 0s 124us/step - loss: 0.5257 - acc: 0.7039 - val_loss: 1.0015 - val_acc: 0.5049\n",
            "Epoch 21/100\n",
            "1638/1638 [==============================] - 0s 123us/step - loss: 0.5591 - acc: 0.6819 - val_loss: 1.0188 - val_acc: 0.5195\n",
            "Epoch 22/100\n",
            "1638/1638 [==============================] - 0s 123us/step - loss: 0.5402 - acc: 0.7033 - val_loss: 1.0482 - val_acc: 0.5122\n",
            "Epoch 23/100\n",
            "1638/1638 [==============================] - 0s 122us/step - loss: 0.5647 - acc: 0.7015 - val_loss: 1.0500 - val_acc: 0.4805\n",
            "Epoch 24/100\n",
            "1638/1638 [==============================] - 0s 133us/step - loss: 0.5157 - acc: 0.7143 - val_loss: 1.0313 - val_acc: 0.5073\n",
            "Epoch 25/100\n",
            "1638/1638 [==============================] - 0s 121us/step - loss: 0.5013 - acc: 0.7216 - val_loss: 0.9914 - val_acc: 0.4927\n",
            "Epoch 26/100\n",
            "1638/1638 [==============================] - 0s 124us/step - loss: 0.5065 - acc: 0.7326 - val_loss: 1.1182 - val_acc: 0.5122\n",
            "Epoch 27/100\n",
            "1638/1638 [==============================] - 0s 125us/step - loss: 0.5762 - acc: 0.7027 - val_loss: 1.1979 - val_acc: 0.5000\n",
            "Epoch 28/100\n",
            "1638/1638 [==============================] - 0s 123us/step - loss: 0.5287 - acc: 0.7320 - val_loss: 1.1890 - val_acc: 0.4902\n",
            "Epoch 29/100\n",
            "1638/1638 [==============================] - 0s 129us/step - loss: 0.5060 - acc: 0.7265 - val_loss: 1.0815 - val_acc: 0.5146\n",
            "Epoch 30/100\n",
            "1638/1638 [==============================] - 0s 122us/step - loss: 0.5274 - acc: 0.7204 - val_loss: 1.1906 - val_acc: 0.5000\n",
            "Epoch 31/100\n",
            "1638/1638 [==============================] - 0s 119us/step - loss: 0.4974 - acc: 0.7247 - val_loss: 1.1179 - val_acc: 0.5195\n",
            "Epoch 32/100\n",
            "1638/1638 [==============================] - 0s 118us/step - loss: 0.4945 - acc: 0.7234 - val_loss: 1.0071 - val_acc: 0.5195\n",
            "Epoch 33/100\n",
            "1638/1638 [==============================] - 0s 123us/step - loss: 0.4973 - acc: 0.7277 - val_loss: 1.0247 - val_acc: 0.5268\n",
            "Epoch 34/100\n",
            "1638/1638 [==============================] - 0s 129us/step - loss: 0.4498 - acc: 0.7576 - val_loss: 1.1399 - val_acc: 0.5049\n",
            "Epoch 35/100\n",
            "1638/1638 [==============================] - 0s 121us/step - loss: 0.5102 - acc: 0.7308 - val_loss: 1.1697 - val_acc: 0.5171\n",
            "Epoch 36/100\n",
            "1638/1638 [==============================] - 0s 118us/step - loss: 0.4597 - acc: 0.7509 - val_loss: 1.1787 - val_acc: 0.5146\n",
            "Epoch 37/100\n",
            "1638/1638 [==============================] - 0s 124us/step - loss: 0.4501 - acc: 0.7491 - val_loss: 1.1634 - val_acc: 0.5146\n",
            "Epoch 38/100\n",
            "1638/1638 [==============================] - 0s 124us/step - loss: 0.4425 - acc: 0.7643 - val_loss: 1.1542 - val_acc: 0.5244\n",
            "Epoch 39/100\n",
            "1638/1638 [==============================] - 0s 129us/step - loss: 0.4355 - acc: 0.7637 - val_loss: 1.1390 - val_acc: 0.5000\n",
            "Epoch 40/100\n",
            "1638/1638 [==============================] - 0s 118us/step - loss: 0.4301 - acc: 0.7784 - val_loss: 1.2213 - val_acc: 0.5244\n",
            "Epoch 41/100\n",
            "1638/1638 [==============================] - 0s 126us/step - loss: 0.4405 - acc: 0.7637 - val_loss: 1.1758 - val_acc: 0.5293\n",
            "Epoch 42/100\n",
            "1638/1638 [==============================] - 0s 121us/step - loss: 0.4365 - acc: 0.7625 - val_loss: 1.2332 - val_acc: 0.5073\n",
            "Epoch 43/100\n",
            "1638/1638 [==============================] - 0s 120us/step - loss: 0.4788 - acc: 0.7509 - val_loss: 1.4384 - val_acc: 0.4927\n",
            "Epoch 44/100\n",
            "1638/1638 [==============================] - 0s 124us/step - loss: 0.5256 - acc: 0.7314 - val_loss: 1.1357 - val_acc: 0.5415\n",
            "Epoch 45/100\n",
            "1638/1638 [==============================] - 0s 121us/step - loss: 0.4658 - acc: 0.7619 - val_loss: 1.1159 - val_acc: 0.5390\n",
            "Epoch 46/100\n",
            "1638/1638 [==============================] - 0s 120us/step - loss: 0.4398 - acc: 0.7668 - val_loss: 1.2162 - val_acc: 0.5146\n",
            "Epoch 47/100\n",
            "1638/1638 [==============================] - 0s 123us/step - loss: 0.4269 - acc: 0.7643 - val_loss: 1.2220 - val_acc: 0.5098\n",
            "Epoch 48/100\n",
            "1638/1638 [==============================] - 0s 124us/step - loss: 0.4160 - acc: 0.7778 - val_loss: 1.3900 - val_acc: 0.5171\n",
            "Epoch 49/100\n",
            "1638/1638 [==============================] - 0s 121us/step - loss: 0.4158 - acc: 0.7869 - val_loss: 1.2597 - val_acc: 0.5268\n",
            "Epoch 50/100\n",
            "1638/1638 [==============================] - 0s 124us/step - loss: 0.3935 - acc: 0.7949 - val_loss: 1.2845 - val_acc: 0.5220\n",
            "Epoch 51/100\n",
            "1638/1638 [==============================] - 0s 117us/step - loss: 0.4156 - acc: 0.7833 - val_loss: 1.2980 - val_acc: 0.5293\n",
            "Epoch 52/100\n",
            "1638/1638 [==============================] - 0s 122us/step - loss: 0.4223 - acc: 0.7875 - val_loss: 1.3538 - val_acc: 0.5244\n",
            "Epoch 53/100\n",
            "1638/1638 [==============================] - 0s 119us/step - loss: 0.4295 - acc: 0.7955 - val_loss: 1.2845 - val_acc: 0.5146\n",
            "Epoch 54/100\n",
            "1638/1638 [==============================] - 0s 120us/step - loss: 0.4007 - acc: 0.7961 - val_loss: 1.2839 - val_acc: 0.5341\n",
            "Epoch 55/100\n",
            "1638/1638 [==============================] - 0s 122us/step - loss: 0.4204 - acc: 0.7802 - val_loss: 1.3947 - val_acc: 0.5268\n",
            "Epoch 56/100\n",
            "1638/1638 [==============================] - 0s 121us/step - loss: 0.4440 - acc: 0.7814 - val_loss: 1.2816 - val_acc: 0.5220\n",
            "Epoch 57/100\n",
            "1638/1638 [==============================] - 0s 125us/step - loss: 0.4486 - acc: 0.7784 - val_loss: 1.2904 - val_acc: 0.5317\n",
            "Epoch 58/100\n",
            "1638/1638 [==============================] - 0s 122us/step - loss: 0.4585 - acc: 0.7631 - val_loss: 1.4791 - val_acc: 0.4951\n",
            "Epoch 59/100\n",
            "1638/1638 [==============================] - 0s 122us/step - loss: 0.4617 - acc: 0.7668 - val_loss: 1.4726 - val_acc: 0.5293\n",
            "Epoch 60/100\n",
            "1638/1638 [==============================] - 0s 129us/step - loss: 0.4700 - acc: 0.7808 - val_loss: 1.3493 - val_acc: 0.5171\n",
            "Epoch 61/100\n",
            "1638/1638 [==============================] - 0s 118us/step - loss: 0.4856 - acc: 0.7680 - val_loss: 1.4339 - val_acc: 0.5024\n",
            "Epoch 62/100\n",
            "1638/1638 [==============================] - 0s 122us/step - loss: 0.4800 - acc: 0.7692 - val_loss: 1.5140 - val_acc: 0.5122\n",
            "Epoch 63/100\n",
            "1638/1638 [==============================] - 0s 119us/step - loss: 0.4274 - acc: 0.7851 - val_loss: 1.5648 - val_acc: 0.5000\n",
            "Epoch 64/100\n",
            "1638/1638 [==============================] - 0s 122us/step - loss: 0.4434 - acc: 0.7711 - val_loss: 1.6095 - val_acc: 0.4805\n",
            "Epoch 65/100\n",
            "1638/1638 [==============================] - 0s 125us/step - loss: 0.5598 - acc: 0.7680 - val_loss: 1.5105 - val_acc: 0.5171\n",
            "Epoch 66/100\n",
            "1638/1638 [==============================] - 0s 121us/step - loss: 0.5010 - acc: 0.7668 - val_loss: 1.5894 - val_acc: 0.4659\n",
            "Epoch 67/100\n",
            "1638/1638 [==============================] - 0s 120us/step - loss: 0.4658 - acc: 0.7839 - val_loss: 1.5068 - val_acc: 0.5293\n",
            "Epoch 68/100\n",
            "1638/1638 [==============================] - 0s 124us/step - loss: 0.4514 - acc: 0.7668 - val_loss: 1.6141 - val_acc: 0.5146\n",
            "Epoch 69/100\n",
            "1638/1638 [==============================] - 0s 120us/step - loss: 0.4381 - acc: 0.7888 - val_loss: 1.5813 - val_acc: 0.5049\n",
            "Epoch 70/100\n",
            "1638/1638 [==============================] - 0s 126us/step - loss: 0.3971 - acc: 0.7784 - val_loss: 1.5478 - val_acc: 0.5244\n",
            "Epoch 71/100\n",
            "1638/1638 [==============================] - 0s 122us/step - loss: 0.4094 - acc: 0.7863 - val_loss: 1.4728 - val_acc: 0.5439\n",
            "Epoch 72/100\n",
            "1638/1638 [==============================] - 0s 120us/step - loss: 0.4087 - acc: 0.7973 - val_loss: 1.4742 - val_acc: 0.5146\n",
            "Epoch 73/100\n",
            "1638/1638 [==============================] - 0s 122us/step - loss: 0.3737 - acc: 0.8053 - val_loss: 1.5273 - val_acc: 0.5195\n",
            "Epoch 74/100\n",
            "1638/1638 [==============================] - 0s 122us/step - loss: 0.3562 - acc: 0.8114 - val_loss: 1.5988 - val_acc: 0.5000\n",
            "Epoch 75/100\n",
            "1638/1638 [==============================] - 0s 127us/step - loss: 0.3557 - acc: 0.8223 - val_loss: 1.5861 - val_acc: 0.5195\n",
            "Epoch 76/100\n",
            "1638/1638 [==============================] - 0s 122us/step - loss: 0.3862 - acc: 0.8205 - val_loss: 1.6693 - val_acc: 0.4951\n",
            "Epoch 77/100\n",
            "1638/1638 [==============================] - 0s 118us/step - loss: 0.3905 - acc: 0.8272 - val_loss: 1.6127 - val_acc: 0.5220\n",
            "Epoch 78/100\n",
            "1638/1638 [==============================] - 0s 121us/step - loss: 0.3397 - acc: 0.8254 - val_loss: 1.6126 - val_acc: 0.5244\n",
            "Epoch 79/100\n",
            "1638/1638 [==============================] - 0s 121us/step - loss: 0.3344 - acc: 0.8321 - val_loss: 1.6212 - val_acc: 0.5366\n",
            "Epoch 80/100\n",
            "1638/1638 [==============================] - 0s 129us/step - loss: 0.3383 - acc: 0.8376 - val_loss: 1.6407 - val_acc: 0.5341\n",
            "Epoch 81/100\n",
            "1638/1638 [==============================] - 0s 119us/step - loss: 0.3298 - acc: 0.8364 - val_loss: 1.6989 - val_acc: 0.5073\n",
            "Epoch 82/100\n",
            "1638/1638 [==============================] - 0s 122us/step - loss: 0.3198 - acc: 0.8443 - val_loss: 1.6507 - val_acc: 0.5122\n",
            "Epoch 83/100\n",
            "1638/1638 [==============================] - 0s 126us/step - loss: 0.3172 - acc: 0.8455 - val_loss: 1.6884 - val_acc: 0.5268\n",
            "Epoch 84/100\n",
            "1638/1638 [==============================] - 0s 120us/step - loss: 0.3237 - acc: 0.8376 - val_loss: 1.6496 - val_acc: 0.5000\n",
            "Epoch 85/100\n",
            "1638/1638 [==============================] - 0s 124us/step - loss: 0.3165 - acc: 0.8358 - val_loss: 1.6981 - val_acc: 0.5073\n",
            "Epoch 86/100\n",
            "1638/1638 [==============================] - 0s 117us/step - loss: 0.3513 - acc: 0.8303 - val_loss: 1.6949 - val_acc: 0.5390\n",
            "Epoch 87/100\n",
            "1638/1638 [==============================] - 0s 124us/step - loss: 0.3654 - acc: 0.8297 - val_loss: 1.7680 - val_acc: 0.5049\n",
            "Epoch 88/100\n",
            "1638/1638 [==============================] - 0s 123us/step - loss: 0.3396 - acc: 0.8284 - val_loss: 1.8508 - val_acc: 0.5049\n",
            "Epoch 89/100\n",
            "1638/1638 [==============================] - 0s 123us/step - loss: 0.3440 - acc: 0.8303 - val_loss: 1.7256 - val_acc: 0.5171\n",
            "Epoch 90/100\n",
            "1638/1638 [==============================] - 0s 126us/step - loss: 0.3199 - acc: 0.8248 - val_loss: 1.6898 - val_acc: 0.5317\n",
            "Epoch 91/100\n",
            "1638/1638 [==============================] - 0s 121us/step - loss: 0.3188 - acc: 0.8480 - val_loss: 1.6739 - val_acc: 0.5366\n",
            "Epoch 92/100\n",
            "1638/1638 [==============================] - 0s 122us/step - loss: 0.3106 - acc: 0.8584 - val_loss: 1.6437 - val_acc: 0.5366\n",
            "Epoch 93/100\n",
            "1638/1638 [==============================] - 0s 123us/step - loss: 0.3370 - acc: 0.8468 - val_loss: 1.7428 - val_acc: 0.5268\n",
            "Epoch 94/100\n",
            "1638/1638 [==============================] - 0s 123us/step - loss: 0.3304 - acc: 0.8449 - val_loss: 1.6771 - val_acc: 0.5122\n",
            "Epoch 95/100\n",
            "1638/1638 [==============================] - 0s 125us/step - loss: 0.3670 - acc: 0.8236 - val_loss: 1.8102 - val_acc: 0.5220\n",
            "Epoch 96/100\n",
            "1638/1638 [==============================] - 0s 121us/step - loss: 0.4038 - acc: 0.8315 - val_loss: 1.8050 - val_acc: 0.5220\n",
            "Epoch 97/100\n",
            "1638/1638 [==============================] - 0s 121us/step - loss: 0.3715 - acc: 0.8144 - val_loss: 1.7232 - val_acc: 0.5317\n",
            "Epoch 98/100\n",
            "1638/1638 [==============================] - 0s 124us/step - loss: 0.3472 - acc: 0.8425 - val_loss: 1.9570 - val_acc: 0.4927\n",
            "Epoch 99/100\n",
            "1638/1638 [==============================] - 0s 123us/step - loss: 0.3583 - acc: 0.8333 - val_loss: 1.9329 - val_acc: 0.4829\n",
            "Epoch 100/100\n",
            "1638/1638 [==============================] - 0s 128us/step - loss: 0.3726 - acc: 0.8333 - val_loss: 1.9967 - val_acc: 0.5024\n",
            "_________________________________________________________________\n",
            "Layer (type)                 Output Shape              Param #   \n",
            "=================================================================\n",
            "flatten_9 (Flatten)          (None, 9604)              0         \n",
            "_________________________________________________________________\n",
            "dense_20 (Dense)             (None, 100)               960500    \n",
            "_________________________________________________________________\n",
            "dense_21 (Dense)             (None, 2)                 202       \n",
            "=================================================================\n",
            "Total params: 960,702\n",
            "Trainable params: 960,702\n",
            "Non-trainable params: 0\n",
            "_________________________________________________________________\n",
            "dict_keys(['val_loss', 'val_acc', 'loss', 'acc'])\n"
          ],
          "name": "stdout"
        },
        {
          "output_type": "display_data",
          "data": {
            "image/png": "[encoded data removed]",
            "text/plain": [
              "<Figure size 432x288 with 1 Axes>"
            ]
          },
          "metadata": {
            "tags": []
          }
        },
        {
          "output_type": "display_data",
          "data": {
            "image/png": "[encoded data removed]",
            "text/plain": [
              "<Figure size 432x288 with 1 Axes>"
            ]
          },
          "metadata": {
            "tags": []
          }
        }
      ]
    },
    {
      "metadata": {
        "id": "jM3Vte0K5zoT",
        "colab_type": "code",
        "colab": {
          "base_uri": "https://localhost:8080/",
          "height": 228
        },
        "outputId": "13a74dd1-46e5-4fba-8180-d1dffada0b46"
      },
      "cell_type": "code",
      "source": [
        "#Summarize\n",
        "model.summary()\n",
        " \n",
        "  "
      ],
      "execution_count": 82,
      "outputs": [
        {
          "output_type": "stream",
          "text": [
            "_________________________________________________________________\n",
            "Layer (type)                 Output Shape              Param #   \n",
            "=================================================================\n",
            "flatten_10 (Flatten)         (None, 9604)              0         \n",
            "_________________________________________________________________\n",
            "dense_19 (Dense)             (None, 2041)              19603805  \n",
            "_________________________________________________________________\n",
            "dense_20 (Dense)             (None, 2)                 4084      \n",
            "=================================================================\n",
            "Total params: 19,607,889\n",
            "Trainable params: 19,607,889\n",
            "Non-trainable params: 0\n",
            "_________________________________________________________________\n"
          ],
          "name": "stdout"
        }
      ]
    }
  ]
}