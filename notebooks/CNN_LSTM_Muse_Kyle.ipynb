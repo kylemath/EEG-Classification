{
  "nbformat": 4,
  "nbformat_minor": 0,
  "metadata": {
    "colab": {
      "name": "CNN_LSTM_2_Kyle.ipynb",
      "version": "0.3.2",
      "provenance": [],
      "include_colab_link": true
    },
    "kernelspec": {
      "name": "python3",
      "display_name": "Python 3"
    },
    "accelerator": "GPU"
  },
  "cells": [
    {
      "cell_type": "markdown",
      "metadata": {
        "id": "view-in-github",
        "colab_type": "text"
      },
      "source": [
        "<a href=\"https://colab.research.google.com/github/kylemath/EEG-Classification/blob/master/notebooks/CNN_LSTM_Muse_Kyle.ipynb\" target=\"_parent\"><img src=\"https://colab.research.google.com/assets/colab-badge.svg\" alt=\"Open In Colab\"/></a>"
      ]
    },
    {
      "metadata": {
        "id": "cH7KRd8ZZPMd",
        "colab_type": "text"
      },
      "cell_type": "markdown",
      "source": [
        "## CNN_LSTM_MUSE_Kyle\n",
        "\n",
        "Goal is to make a CNN LSTM stack that processes Muse eeg-notebook EEG trials as input and predicts binary trial category as output.\n",
        "\n",
        "Strategy:\n",
        "* Load in Muse data, and turn into square images with n channels. \n",
        "* Try 49  by 49 data point long spectra for each trial \n",
        "* Predict attend left vs attend right on muse 375 data\n",
        "\n",
        "API:\n",
        "* Want to input the data directory of any eeg-notebook experiment (https://github.com/kylemath/eeg-notebooks) \n",
        "\n",
        "LearningModels:\n",
        "* First try simple CNN\n",
        "* then add in LSTM component to treat time as recurrent\n",
        "\n",
        "DataModels:\n",
        "* First pool data over subjects\n",
        "* Try subject specific models\n",
        "* Then try multilevel models\n",
        "\n",
        "Using: \n",
        "* https://github.com/pbashivan/EEGLearn\n",
        "* https://github.com/tevisgehr/EEG-Classification\n",
        "* https://github.com/kylemath/eeg-notebooks\n",
        "* https://github.com/keras-team/keras/blob/master/examples/imdb_cnn_lstm.py\n",
        "\n",
        "Resources:\n",
        "*   http://proceedings.mlr.press/v56/Thodoroff16.pdf\n",
        "*   https://arxiv.org/abs/1511.06448\n",
        "\n",
        "\n"
      ]
    },
    {
      "metadata": {
        "id": "akRdj-robUCZ",
        "colab_type": "text"
      },
      "cell_type": "markdown",
      "source": [
        "**TODO Kory Jan 20** \n",
        "\n",
        "1. substitute totally random data for your input data or \n",
        "\n",
        "14. Also, you can try `np.random.shuffle(y_train)` and see how it performs on randomly shuffled input data.         \n",
        "\n",
        "\n",
        "16. Might want to use stratify on the train_test_split\n",
        "\n",
        "\n",
        "20. I have no notion that it should be able to differentiate the two classes. Can you do any sort of unsupervised learning to show that there are significant differences in the distribution? Plot the distributions, scatter the PCA's in 2d, do something that shows that there is a separation line...  At this point,you can fiddle and futz with hyperparameters all day long, but there is nothing better than random performance for those features.\n",
        "\n",
        "22. Plot loss with plt.semilogy\n",
        "\n",
        "15. Also. Do you have a validation set? Best to ask early. \n",
        "\n",
        "21. How does number of features relate to number of data points relate to number of parameters? [link](https://www.youtube.com/watch?v=Dc0sr0kdBVI&hd=1#t=57m20s)\n",
        "\n",
        "              \n",
        "Done\n",
        "1. this line is confusing?` sub = isub `\n",
        "2. some long lines of code make it less readable... try to keep code within the dotted line\n",
        "6. There are moments when raw sizes are printed, try to give them some context with\n",
        "\n",
        "         `print( ' right cue data size: {}'format(tfr.data.shape))` \n",
        "          (1063, 2, 49, 49) (1063, 49, 49, 2) \n",
        "18. regarding epochs. Don't redefine `epochs = 100` it makes co rerunning hard.\n",
        "8. `to_categorical()` before the train test split\n",
        "7. not sure what I am seeing in the 2 subplots... there is a y-axis label missing for top / bottom\n",
        " * *Changed Label above, multi instances*\n",
        "9. all your imports should go at the top of the file and not in the cell it is used in\n",
        "4. for instance, there is a plot at the end of : `raw.plot_psd(fmin=1, fmax=30 );` that i missed because it was below 100 of the same status line\n",
        " * *removed it not important*\n",
        "24. categorical_crossentropy was right for your categorical mod\n",
        "12. loss function can be `binary_crossentropy` i think\n",
        "\n",
        "\n",
        "        model.compile(loss='categorical_crossentropy',\n",
        "              optimizer=opt,\n",
        "              metrics=['accuracy'])\n",
        "              \n",
        "14. Looks like it is over fitting on random noise and then performing about the same as a random baseline? Two balanced classes on output would give 50% accuracy. What is the output classes distritbution of training and test sets? \n",
        "\n",
        "   * *About Random 50/50* \n",
        "   \n",
        "16. Looks like there is some signal found but not much. How long does training take? Time per epcoh/step\n",
        "17. Plot you learning rate over time. Does it decay to zero?\n",
        "  * *These are both in code output*\n",
        "18. What is your batch size? Can you try with smaller batches? Bigger batches? Are batches shuffles after each epoch? \n",
        "  * *Tried these, small and large, no effect*\n",
        "23. I use Adam almost consistently for optimizer\n",
        "        opt = keras.optimizers.Adam(lr=0.001, beta_1=0.9, beta_2=0.999, \n",
        "                            epsilon=None, decay=0.0, amsgrad=False)\n",
        "24. Start with a very small model. Conv layers only. No lstm for instance. This could be a function of vanichsing gradients in the recurrent layers. \n",
        "20. What is the data shape? Can you show the whole input to the model rather than feeding in recurrent? \n",
        "  * *This is just a CNN right now, withonly two layers*\n",
        "17. Also, you always want to set the random seed explicitly for ML research, `np.random.seed(1017)` random_state in train_test_split. this will help with reproducibility testing.\n",
        "2. Long output logs are confusing as fuck. Can you use tqdm or something similar to show progress rather than listing a bit meaningless status?\n",
        "10. add a `model.summary() ` somewhere, it gives you a sense of the model in plaintext. (Trainable params: 174,592) 11) \n",
        "11. you use two different definitions of the word epoch in the file. \n",
        "1. each cell (eg. 2) should have a status message if it succeded or failed.\n",
        "2. mark each image with the answer and see if your CNN visual features can detect. \n",
        "15. You can use `np.ones_like` and `np.zeros_like` to make easy to discern training data. For instance, here is a sanity check, make all the left cues ones, and all the right cues zeros... then make a model that fits on that.\n"
      ]
    },
    {
      "metadata": {
        "id": "Kf-1ItUyU380",
        "colab_type": "text"
      },
      "cell_type": "markdown",
      "source": [
        "**Setup**"
      ]
    },
    {
      "metadata": {
        "id": "VXe-o8XtG9ki",
        "colab_type": "code",
        "outputId": "eb93f073-ebf6-4bde-c341-9f4a3cc53fdf",
        "colab": {
          "base_uri": "https://localhost:8080/",
          "height": 131
        }
      },
      "cell_type": "code",
      "source": [
        "!git clone https://github.com/tevisgehr/EEG-Classification.git\n",
        "%cd EEG-Classification\n",
        "from eeg_learn_functions import *\n",
        "%cd ..\n",
        "\n",
        "!git clone https://github.com/kylemath/eeg-notebooks.git\n",
        "%cd eeg-notebooks/notebooks\n",
        "!pip install mne\n",
        "from utils import utils\n",
        "\n",
        "import pandas as pd\n",
        "pd.options.display.max_columns = None\n",
        "pd.options.display.precision = 4\n",
        "\n",
        "import numpy as np\n",
        "from numpy import genfromtxt\n",
        "np.random.seed(1017)\n",
        "\n",
        "from collections import OrderedDict\n",
        "import matplotlib.pyplot as plt\n",
        "%matplotlib inline\n",
        "plt.rcParams[\"figure.figsize\"] = (12,12)\n",
        "\n",
        "import seaborn as sns\n",
        "import scipy.stats as scs\n",
        "import re\n",
        "\n",
        "from IPython.core.display import display, HTML\n",
        "display(HTML(\"<style>.container { width:100% !important; }</style>\"))\n",
        "\n",
        "from mne import Epochs, find_events, concatenate_raws\n",
        "from mne.time_frequency import tfr_morlet\n",
        "\n",
        "import keras\n",
        "from keras.models import Sequential\n",
        "from keras.layers import Dense, Dropout, Activation, Flatten, Conv2D, MaxPooling2D\n",
        "\n",
        "from sklearn.model_selection import train_test_split\n",
        "\n"
      ],
      "execution_count": 1,
      "outputs": [
        {
          "output_type": "stream",
          "text": [
            "fatal: destination path 'EEG-Classification' already exists and is not an empty directory.\n",
            "/content/EEG-Classification\n",
            "/content\n",
            "fatal: destination path 'eeg-notebooks' already exists and is not an empty directory.\n",
            "/content/eeg-notebooks/notebooks\n",
            "Requirement already satisfied: mne in /usr/local/lib/python3.6/dist-packages (0.17.0)\n"
          ],
          "name": "stdout"
        },
        {
          "output_type": "display_data",
          "data": {
            "text/html": [
              "<style>.container { width:100% !important; }</style>"
            ],
            "text/plain": [
              "<IPython.core.display.HTML object>"
            ]
          },
          "metadata": {
            "tags": []
          }
        },
        {
          "output_type": "stream",
          "text": [
            "Using TensorFlow backend.\n"
          ],
          "name": "stderr"
        }
      ]
    },
    {
      "metadata": {
        "id": "yR1WkVZKU2Vm",
        "colab_type": "text"
      },
      "cell_type": "markdown",
      "source": [
        "**Parameters**"
      ]
    },
    {
      "metadata": {
        "id": "QGVIiUbAU1nA",
        "colab_type": "code",
        "colab": {
          "base_uri": "https://localhost:8080/",
          "height": 33
        },
        "outputId": "23ccb0c7-20a8-465f-aebf-1158290e45dc"
      },
      "cell_type": "code",
      "source": [
        "#Parameters#\n",
        "subs = [101, 102, 103, 104, 105, 106, 108, 109, 110, 111, 112,\n",
        "        202, 203, 204, 205, 207, 208, 209, 210, 211, \n",
        "        301, 302, 303, 304, 305, 306, 307, 308, 309]\n",
        "\n",
        "#subs = [ 205, 207, 208, 209]\n",
        "\n",
        "subs = [ 2]\n",
        "\n",
        "nsesh = [1]\n",
        "\n",
        "data_dir = 'visual/cueing'\n",
        "event_ids = ['LeftCue','RightCue']\n",
        "\n",
        "#data_dir = 'visual/SSVEP'\n",
        "#event_ids = ['F1','F2']\n",
        "\n",
        "\n",
        "sfreq=256.\n",
        "\n",
        "#filter\n",
        "eeg_filter_highpass = 1\n",
        "eeg_filter_lowpass = 30\n",
        "\n",
        "#artifact rejection\n",
        "rej_thresh_uV = 250\n",
        "rej_thresh = rej_thresh_uV*1e-6\n",
        "\n",
        "#trial epoch limits (must all work together with decimation and frequencies to create square) \n",
        "tmin=-1\n",
        "tmax=2\n",
        "decim=16\n",
        "times_out = int((((tmax-tmin) / (1/sfreq)) / decim)+1)\n",
        "img_rows, img_cols = times_out, times_out\n",
        "baseline=(-1, 0)\n",
        "\n",
        "#wavelet settings\n",
        "f_low = 4\n",
        "f_high = 20\n",
        "frequencies =  np.linspace(4, 20, times_out, endpoint=True)\n",
        "wave_cycles = 6\n",
        "spect_baseline = [-1,-.5]\n",
        "electrodes_out = [0,1,2,3]\n",
        "\n",
        "#Training Settings\n",
        "batch_size = 64\n",
        "train_epochs = 100\n",
        "num_classes = len(event_ids)\n",
        "\n",
        "print('Parameters Set')"
      ],
      "execution_count": 115,
      "outputs": [
        {
          "output_type": "stream",
          "text": [
            "Parameters Set\n"
          ],
          "name": "stdout"
        }
      ]
    },
    {
      "metadata": {
        "id": "g2a98-rwL9wl",
        "colab_type": "text"
      },
      "cell_type": "markdown",
      "source": [
        "**Preprocessing of EEG Data**\n",
        "\n",
        "* LoadData - Each data file is from one session of one subject of the muse cueing task from eeg-notebooks from psych 375 A1 dataset\n",
        "* Filtering - Most ERP components are composed of lower frequency fluctuations in the EEG signal. Thus, we can filter out all frequencies between 1 and 30 hz in order to increase our ability to detect them.\n",
        "* Epoching - Next, we will chunk (epoch) the data into segments representing the data 1000ms before to 2000ms after each cue, we will reject every epoch where the amplitude of the signal exceeded 100 uV, which should most eye blinks."
      ]
    },
    {
      "metadata": {
        "id": "6A3mgX7ILZFK",
        "colab_type": "code",
        "outputId": "9f9ac08e-37c4-4e6e-d691-e826f5812c7f",
        "colab": {
          "base_uri": "https://localhost:8080/",
          "height": 115
        }
      },
      "cell_type": "code",
      "source": [
        "#Load Data\n",
        "print('Loading Data')\n",
        "\n",
        "isub = subs[0]\n",
        "print(isub)\n",
        "raw = utils.load_data(data_dir, sfreq=sfreq ,subject_nb=isub, session_nb=1)\n",
        "if nsesh == 2:\n",
        "  raw.append(utils.load_data(data_dir, sfreq=sfreq,subject_nb=isub, session_nb=2))\n",
        "\n",
        "if len(subs)>1:\n",
        "  for isub in subs[1:]:\n",
        "    print(isub)\n",
        "    raw.append(utils.load_data(data_dir, sfreq=sfreq,subject_nb=isub, session_nb=1))\n",
        "    if nsesh == 2:\n",
        "      raw.append(utils.load_data(data_dir, sfreq=sfreq,subject_nb=isub, session_nb=2))\n",
        "  \n",
        "#Filtering\n",
        "print('Filtering Data')\n",
        "raw.filter(eeg_filter_highpass,eeg_filter_lowpass, method='iir', verbose='WARNING' )\n",
        "#raw.plot_psd(fmin=eeg_filter_highpass, fmax=eeg_filter_lowpass );\n",
        "\n",
        "#Epoching\n",
        "event_id = {event_ids[0]: 1, event_ids[1]: 2}\n",
        "events = find_events(raw)\n",
        "epochs = Epochs(raw, events=events, event_id=event_id, \n",
        "                tmin=tmin, tmax=tmax, baseline=baseline, \n",
        "                preload=True,reject={'eeg':rej_thresh},\n",
        "                verbose=False, picks=[0, 1, 2, 3])\n",
        "\n",
        "print('sample drop %: ', (1 - len(epochs.events)/len(events)) * 100)\n",
        "%matplotlib inline\n",
        "conditions = OrderedDict()\n",
        "conditions[event_ids[0]] = [1]\n",
        "conditions[event_ids[1]] = [2]\n",
        "\n",
        "#fig, ax = utils.plot_conditions(epochs, conditions=conditions, ylim=(-20,20) )"
      ],
      "execution_count": 116,
      "outputs": [
        {
          "output_type": "stream",
          "text": [
            "Loading Data\n",
            "2\n",
            "Filtering Data\n",
            "342 events found\n",
            "Event IDs: [ 1  2 11 12 21 22]\n",
            "sample drop %:  60.23391812865497\n"
          ],
          "name": "stdout"
        }
      ]
    },
    {
      "metadata": {
        "id": "EmvSu1bOZiO0",
        "colab_type": "text"
      },
      "cell_type": "markdown",
      "source": [
        "** Spectrogram **\n",
        "\n",
        "* All electrodes are considered on each trial, and their difference is used to create a single image for each trial.\n",
        "* Two changes are made here to create a small square output for each trial.\n",
        "* Many frequencies are used in the wavelet analysis (49) while the output of the morlet is decimated in time by a factor of 16. This creates 49x49 spectograms\n",
        "* Now the other condition, right cue, is done, and the two sets of images and labels are concatenated into X and Y variables\n",
        "* X is a trials x 49 x 49 matrix\n",
        "* Y is a trials array of condition labels\n"
      ]
    },
    {
      "metadata": {
        "id": "Xs-_8GRYZar7",
        "colab_type": "code",
        "outputId": "026051c7-fed3-44b6-d424-c48c80a8bbc1",
        "colab": {
          "base_uri": "https://localhost:8080/",
          "height": 147
        }
      },
      "cell_type": "code",
      "source": [
        "#15. You can use `np.ones_like` and `np.zeros_like` to make easy to discern training data.\n",
        "\n",
        "# Condition0\n",
        "print('Computing Morlet Wavelets on ' + event_ids[0])\n",
        "\n",
        "tfr = tfr_morlet(epochs[event_ids[0]], freqs=frequencies, \n",
        "                      n_cycles=wave_cycles, return_itc=False,\n",
        "                      picks=electrodes_out,average=False,decim=decim)\n",
        "tfr = tfr.apply_baseline(spect_baseline,mode='mean')\n",
        "cond0_power_out = np.moveaxis(tfr.data,1,3)\n",
        "#cond0_power_out[:,0:10,0:10,:] = 0\n",
        "\n",
        "print(event_ids[0] + ' Time Points: ' + str(len(tfr.times)))\n",
        "print(event_ids[0] + ' Frequencies: ' + str(len(tfr.freqs)))\n",
        "\n",
        "#Condition1\n",
        "print('Computing Morlet Wavelets on ' + event_ids[1])\n",
        "tfr = tfr_morlet(epochs[event_ids[1]], freqs=frequencies, \n",
        "                      n_cycles=wave_cycles, return_itc=False,\n",
        "                      picks=electrodes_out,average=False,decim=decim)\n",
        "tfr = tfr.apply_baseline(spect_baseline,mode='mean')\n",
        "cond1_power_out = np.moveaxis(tfr.data,1,3)\n",
        "#cond1_power_out[:,0:10,0:10,:] = 1\n",
        "\n",
        "print(event_ids[1] + ' Time Points: ' + str(len(tfr.times)))\n",
        "print(event_ids[1] + ' Frequencies: ' + str(len(tfr.freqs)))\n",
        "\n",
        "\n"
      ],
      "execution_count": 117,
      "outputs": [
        {
          "output_type": "stream",
          "text": [
            "Computing Morlet Wavelets on LeftCue\n",
            "Applying baseline correction (mode: mean)\n",
            "LeftCue Time Points: 49\n",
            "LeftCue Frequencies: 49\n",
            "Computing Morlet Wavelets on RightCue\n",
            "Applying baseline correction (mode: mean)\n",
            "RightCue Time Points: 49\n",
            "RightCue Frequencies: 49\n"
          ],
          "name": "stdout"
        }
      ]
    },
    {
      "metadata": {
        "id": "WqVTXiwrZxbf",
        "colab_type": "text"
      },
      "cell_type": "markdown",
      "source": [
        "**Prepare Data for Model**\n"
      ]
    },
    {
      "metadata": {
        "id": "4xyrsW2kZW8D",
        "colab_type": "code",
        "outputId": "4ad3988e-9412-48da-92de-6cc19939245e",
        "colab": {
          "base_uri": "https://localhost:8080/",
          "height": 748
        }
      },
      "cell_type": "code",
      "source": [
        "#Append Data\n",
        "X = np.append(cond0_power_out,cond1_power_out,0);\n",
        "Y = np.append(np.zeros(len(cond0_power_out)), np.ones(len(cond1_power_out)),0);\n",
        "\n",
        "print('Combined X Shape: ' + str(X.shape))\n",
        "print('Combined Y Shape: ' + str(Y.shape))\n",
        "print('Combined Y: ' + str(Y))\n",
        "\n",
        "X = (X - np.mean(X)) / np.std(X)\n",
        "\n",
        "print(np.min(X))\n",
        "print(np.max(X))\n",
        "\n",
        "vmin = (np.std(X)/10) * -1\n",
        "vmax = np.std(X)/10  \n",
        "\n",
        "#Plot Example Data\n",
        "f, axarr = plt.subplots(2,2, figsize = (8,8))\n",
        "axarr[0][0].set_title(event_ids[0])\n",
        "axarr[0][0].imshow(X[0,:,:,1],vmin=vmin, vmax=vmax)\n",
        "\n",
        "axarr[0][0].invert_yaxis()\n",
        "axarr[1][0].imshow(X[1,:,:,1],vmin=vmin, vmax=vmax)\n",
        "axarr[1][0].invert_yaxis()\n",
        "\n",
        "axarr[0][1].set_title(event_ids[1])\n",
        "axarr[0][1].imshow(X[-1,:,:,1],vmin=vmin, vmax=vmax)\n",
        "axarr[0][1].invert_yaxis()\n",
        "axarr[1][1].imshow(X[-2,:,:,1],vmin=vmin, vmax=vmax)\n",
        "axarr[1][1].invert_yaxis()\n",
        ";\n",
        "\n",
        "# convert class vectors to binary class matrices and recast X\n",
        "Y = keras.utils.to_categorical(Y, num_classes)\n",
        "X = X.astype('float32')\n",
        "\n",
        "# Split training and test data and recast\n",
        "x_train, x_test, y_train, y_test = train_test_split(X, Y, test_size=0.20,shuffle=True)\n",
        "\n",
        "# Compute model input shape\n",
        "input_shape = (img_rows, img_cols, len(electrodes_out))\n",
        "\n",
        "print('Input Shape: ' + str(input_shape))\n",
        "print('x_train shape:', x_train.shape)\n",
        "print(x_train.shape[0], 'train samples')\n",
        "print(x_test.shape[0], 'test samples')\n",
        "print('X Examples:')\n"
      ],
      "execution_count": 118,
      "outputs": [
        {
          "output_type": "stream",
          "text": [
            "Combined X Shape: (136, 49, 49, 4)\n",
            "Combined Y Shape: (136,)\n",
            "Combined Y: [0. 0. 0. 0. 0. 0. 0. 0. 0. 0. 0. 0. 0. 0. 0. 0. 0. 0. 0. 0. 0. 0. 0. 0.\n",
            " 0. 0. 0. 0. 0. 0. 0. 0. 0. 0. 0. 0. 0. 0. 0. 0. 0. 0. 0. 0. 0. 0. 0. 0.\n",
            " 0. 0. 0. 0. 0. 0. 0. 0. 0. 0. 0. 0. 0. 0. 0. 0. 0. 0. 0. 1. 1. 1. 1. 1.\n",
            " 1. 1. 1. 1. 1. 1. 1. 1. 1. 1. 1. 1. 1. 1. 1. 1. 1. 1. 1. 1. 1. 1. 1. 1.\n",
            " 1. 1. 1. 1. 1. 1. 1. 1. 1. 1. 1. 1. 1. 1. 1. 1. 1. 1. 1. 1. 1. 1. 1. 1.\n",
            " 1. 1. 1. 1. 1. 1. 1. 1. 1. 1. 1. 1. 1. 1. 1. 1.]\n",
            "-19.515477148557192\n",
            "64.21771509900522\n",
            "Input Shape: (49, 49, 4)\n",
            "x_train shape: (108, 49, 49, 4)\n",
            "108 train samples\n",
            "28 test samples\n",
            "X Examples:\n"
          ],
          "name": "stdout"
        },
        {
          "output_type": "display_data",
          "data": {
            "image/png": "[encoded data removed]",
            "text/plain": [
              "<Figure size 576x576 with 4 Axes>"
            ]
          },
          "metadata": {
            "tags": []
          }
        }
      ]
    },
    {
      "metadata": {
        "id": "mKzYDoF1TQmK",
        "colab_type": "text"
      },
      "cell_type": "markdown",
      "source": [
        "**Build Model and Train**"
      ]
    },
    {
      "metadata": {
        "scrolled": false,
        "id": "JxjbgyC5G7AZ",
        "colab_type": "code",
        "outputId": "e6e3c483-574c-47a1-ed4a-ad1f1848c35e",
        "colab": {
          "base_uri": "https://localhost:8080/",
          "height": 4183
        }
      },
      "cell_type": "code",
      "source": [
        "#DenseFeedforward Network\n",
        "model = Sequential()\n",
        "model.add(Flatten())\n",
        "model.add(Dense(10, activation='relu', input_dim=input_shape))\n",
        "model.add(Dropout(.20))\n",
        "model.add(Dense(4, activation='relu'))\n",
        "model.add(Dense(10, activation='relu', input_dim=input_shape))\n",
        "model.add(Dense(2, activation='softmax'))\n",
        "\n",
        "\n",
        "#model.add(Dropout(.10))\n",
        "\n",
        "# Create CNN in keras\n",
        "#model = Sequential()\n",
        "#model.add(Conv2D(64, (3, 3), input_shape=input_shape))\n",
        "#model.add(Activation('relu'))\n",
        "#model.add(Conv2D(32, (3, 3)))\n",
        "#model.add(Activation('relu'))\n",
        "#model.add(MaxPooling2D(pool_size=(2, 2)))\n",
        "#model.add(Flatten())\n",
        "#model.add(Dense(10))\n",
        "#model.add(Activation('relu'))\n",
        "#model.add(Dense(num_classes))\n",
        "#model.add(Activation('softmax'))\n",
        "\n",
        "# initiate adam optimizer\n",
        "opt = keras.optimizers.Adam(lr=0.001, beta_1=0.9, beta_2=0.999, \n",
        "                            epsilon=None, decay=0.0, amsgrad=False)\n",
        "\n",
        "# Let's train the model using RMSprop\n",
        "model.compile(loss='categorical_crossentropy',\n",
        "              optimizer=opt,\n",
        "              metrics=['accuracy'])\n",
        "\n",
        "\n",
        "\n",
        "#Train Model\n",
        "history = model.fit(x_train, y_train,\n",
        "          batch_size=batch_size,\n",
        "          epochs=train_epochs,\n",
        "          validation_data=(x_test, y_test),\n",
        "          shuffle=True,\n",
        "          verbose=True)\n",
        "         \n",
        "#Summarize\n",
        "model.summary()\n",
        " \n",
        "  \n",
        "# list all data in history\n",
        "print(history.history.keys())\n",
        "# summarize history for accuracy\n",
        "plt.plot(history.history['acc'])\n",
        "plt.plot(history.history['val_acc'])\n",
        "plt.title('model accuracy')\n",
        "plt.ylabel('accuracy')\n",
        "plt.xlabel('epoch')\n",
        "plt.legend(['train', 'test'], loc='upper left')\n",
        "plt.show()\n",
        "# summarize history for loss\n",
        "plt.plot(history.history['loss'])\n",
        "plt.plot(history.history['val_loss'])\n",
        "plt.title('model loss')\n",
        "plt.ylabel('loss')\n",
        "plt.xlabel('epoch')\n",
        "plt.legend(['train', 'test'], loc='upper left')\n",
        "plt.show()"
      ],
      "execution_count": 119,
      "outputs": [
        {
          "output_type": "stream",
          "text": [
            "Train on 108 samples, validate on 28 samples\n",
            "Epoch 1/100\n",
            "108/108 [==============================] - 2s 21ms/step - loss: 0.8233 - acc: 0.5093 - val_loss: 0.9312 - val_acc: 0.5000\n",
            "Epoch 2/100\n",
            "108/108 [==============================] - 0s 228us/step - loss: 0.6983 - acc: 0.5926 - val_loss: 1.2446 - val_acc: 0.6429\n",
            "Epoch 3/100\n",
            "108/108 [==============================] - 0s 292us/step - loss: 0.7069 - acc: 0.6481 - val_loss: 1.1063 - val_acc: 0.7143\n",
            "Epoch 4/100\n",
            "108/108 [==============================] - 0s 198us/step - loss: 0.6271 - acc: 0.7037 - val_loss: 0.8155 - val_acc: 0.5357\n",
            "Epoch 5/100\n",
            "108/108 [==============================] - 0s 189us/step - loss: 0.6133 - acc: 0.6852 - val_loss: 0.7129 - val_acc: 0.5357\n",
            "Epoch 6/100\n",
            "108/108 [==============================] - 0s 212us/step - loss: 0.5800 - acc: 0.6759 - val_loss: 0.6988 - val_acc: 0.5357\n",
            "Epoch 7/100\n",
            "108/108 [==============================] - 0s 192us/step - loss: 0.5995 - acc: 0.7778 - val_loss: 0.6898 - val_acc: 0.5714\n",
            "Epoch 8/100\n",
            "108/108 [==============================] - 0s 192us/step - loss: 0.5428 - acc: 0.7593 - val_loss: 0.6938 - val_acc: 0.5714\n",
            "Epoch 9/100\n",
            "108/108 [==============================] - 0s 183us/step - loss: 0.5238 - acc: 0.7870 - val_loss: 0.6902 - val_acc: 0.5714\n",
            "Epoch 10/100\n",
            "108/108 [==============================] - 0s 199us/step - loss: 0.5074 - acc: 0.8148 - val_loss: 0.7275 - val_acc: 0.6071\n",
            "Epoch 11/100\n",
            "108/108 [==============================] - 0s 214us/step - loss: 0.4949 - acc: 0.8333 - val_loss: 0.7926 - val_acc: 0.6071\n",
            "Epoch 12/100\n",
            "108/108 [==============================] - 0s 195us/step - loss: 0.4884 - acc: 0.8519 - val_loss: 0.8689 - val_acc: 0.6071\n",
            "Epoch 13/100\n",
            "108/108 [==============================] - 0s 197us/step - loss: 0.4701 - acc: 0.8519 - val_loss: 1.0052 - val_acc: 0.6071\n",
            "Epoch 14/100\n",
            "108/108 [==============================] - 0s 176us/step - loss: 0.4768 - acc: 0.8889 - val_loss: 1.1293 - val_acc: 0.6429\n",
            "Epoch 15/100\n",
            "108/108 [==============================] - 0s 182us/step - loss: 0.4474 - acc: 0.8796 - val_loss: 1.2319 - val_acc: 0.6429\n",
            "Epoch 16/100\n",
            "108/108 [==============================] - 0s 223us/step - loss: 0.4545 - acc: 0.8796 - val_loss: 1.3107 - val_acc: 0.6429\n",
            "Epoch 17/100\n",
            "108/108 [==============================] - 0s 192us/step - loss: 0.4559 - acc: 0.8796 - val_loss: 1.3428 - val_acc: 0.6071\n",
            "Epoch 18/100\n",
            "108/108 [==============================] - 0s 188us/step - loss: 0.4361 - acc: 0.9167 - val_loss: 1.3678 - val_acc: 0.5714\n",
            "Epoch 19/100\n",
            "108/108 [==============================] - 0s 218us/step - loss: 0.4142 - acc: 0.9259 - val_loss: 1.3860 - val_acc: 0.5714\n",
            "Epoch 20/100\n",
            "108/108 [==============================] - 0s 188us/step - loss: 0.4374 - acc: 0.8796 - val_loss: 1.4026 - val_acc: 0.5000\n",
            "Epoch 21/100\n",
            "108/108 [==============================] - 0s 186us/step - loss: 0.4221 - acc: 0.8981 - val_loss: 1.4105 - val_acc: 0.5000\n",
            "Epoch 22/100\n",
            "108/108 [==============================] - 0s 178us/step - loss: 0.3899 - acc: 0.9167 - val_loss: 1.4171 - val_acc: 0.5000\n",
            "Epoch 23/100\n",
            "108/108 [==============================] - 0s 186us/step - loss: 0.3949 - acc: 0.9444 - val_loss: 1.4224 - val_acc: 0.5357\n",
            "Epoch 24/100\n",
            "108/108 [==============================] - 0s 194us/step - loss: 0.4043 - acc: 0.9444 - val_loss: 1.4303 - val_acc: 0.5000\n",
            "Epoch 25/100\n",
            "108/108 [==============================] - 0s 200us/step - loss: 0.3711 - acc: 0.9815 - val_loss: 1.4446 - val_acc: 0.5000\n",
            "Epoch 26/100\n",
            "108/108 [==============================] - 0s 187us/step - loss: 0.3854 - acc: 0.9537 - val_loss: 1.4662 - val_acc: 0.5000\n",
            "Epoch 27/100\n",
            "108/108 [==============================] - 0s 203us/step - loss: 0.3825 - acc: 0.9630 - val_loss: 1.4874 - val_acc: 0.5000\n",
            "Epoch 28/100\n",
            "108/108 [==============================] - 0s 221us/step - loss: 0.3833 - acc: 0.9537 - val_loss: 1.5096 - val_acc: 0.5357\n",
            "Epoch 29/100\n",
            "108/108 [==============================] - 0s 219us/step - loss: 0.3717 - acc: 0.9444 - val_loss: 1.5145 - val_acc: 0.5357\n",
            "Epoch 30/100\n",
            "108/108 [==============================] - 0s 202us/step - loss: 0.3621 - acc: 0.9537 - val_loss: 1.5175 - val_acc: 0.5357\n",
            "Epoch 31/100\n",
            "108/108 [==============================] - 0s 175us/step - loss: 0.4041 - acc: 0.9259 - val_loss: 1.4794 - val_acc: 0.5000\n",
            "Epoch 32/100\n",
            "108/108 [==============================] - 0s 206us/step - loss: 0.3654 - acc: 0.9444 - val_loss: 1.4637 - val_acc: 0.5000\n",
            "Epoch 33/100\n",
            "108/108 [==============================] - 0s 244us/step - loss: 0.3735 - acc: 0.9537 - val_loss: 1.4609 - val_acc: 0.5000\n",
            "Epoch 34/100\n",
            "108/108 [==============================] - 0s 202us/step - loss: 0.3555 - acc: 0.9444 - val_loss: 1.4612 - val_acc: 0.4643\n",
            "Epoch 35/100\n",
            "108/108 [==============================] - 0s 359us/step - loss: 0.3419 - acc: 0.9630 - val_loss: 1.4683 - val_acc: 0.4643\n",
            "Epoch 36/100\n",
            "108/108 [==============================] - 0s 229us/step - loss: 0.3396 - acc: 0.9722 - val_loss: 1.4731 - val_acc: 0.5000\n",
            "Epoch 37/100\n",
            "108/108 [==============================] - 0s 212us/step - loss: 0.3451 - acc: 0.9630 - val_loss: 1.4765 - val_acc: 0.5000\n",
            "Epoch 38/100\n",
            "108/108 [==============================] - 0s 212us/step - loss: 0.3435 - acc: 0.9722 - val_loss: 1.4759 - val_acc: 0.5000\n",
            "Epoch 39/100\n",
            "108/108 [==============================] - 0s 232us/step - loss: 0.3371 - acc: 0.9907 - val_loss: 1.4818 - val_acc: 0.5000\n",
            "Epoch 40/100\n",
            "108/108 [==============================] - 0s 249us/step - loss: 0.3411 - acc: 0.9444 - val_loss: 1.4893 - val_acc: 0.5000\n",
            "Epoch 41/100\n",
            "108/108 [==============================] - 0s 223us/step - loss: 0.3265 - acc: 0.9722 - val_loss: 1.4880 - val_acc: 0.5357\n",
            "Epoch 42/100\n",
            "108/108 [==============================] - 0s 213us/step - loss: 0.3179 - acc: 0.9907 - val_loss: 1.4978 - val_acc: 0.5357\n",
            "Epoch 43/100\n",
            "108/108 [==============================] - 0s 202us/step - loss: 0.3139 - acc: 0.9815 - val_loss: 1.5122 - val_acc: 0.5357\n",
            "Epoch 44/100\n",
            "108/108 [==============================] - 0s 340us/step - loss: 0.3056 - acc: 1.0000 - val_loss: 1.5287 - val_acc: 0.5000\n",
            "Epoch 45/100\n",
            "108/108 [==============================] - 0s 218us/step - loss: 0.3180 - acc: 0.9907 - val_loss: 1.5455 - val_acc: 0.5000\n",
            "Epoch 46/100\n",
            "108/108 [==============================] - 0s 211us/step - loss: 0.3060 - acc: 0.9815 - val_loss: 1.5596 - val_acc: 0.5000\n",
            "Epoch 47/100\n",
            "108/108 [==============================] - 0s 240us/step - loss: 0.3294 - acc: 0.9630 - val_loss: 1.5645 - val_acc: 0.5000\n",
            "Epoch 48/100\n",
            "108/108 [==============================] - 0s 236us/step - loss: 0.3159 - acc: 0.9815 - val_loss: 1.5700 - val_acc: 0.5000\n",
            "Epoch 49/100\n",
            "108/108 [==============================] - 0s 225us/step - loss: 0.3026 - acc: 0.9815 - val_loss: 1.5747 - val_acc: 0.5000\n",
            "Epoch 50/100\n",
            "108/108 [==============================] - 0s 240us/step - loss: 0.2968 - acc: 0.9907 - val_loss: 1.5760 - val_acc: 0.5000\n",
            "Epoch 51/100\n",
            "108/108 [==============================] - 0s 221us/step - loss: 0.3155 - acc: 0.9537 - val_loss: 1.5609 - val_acc: 0.5000\n",
            "Epoch 52/100\n",
            "108/108 [==============================] - 0s 232us/step - loss: 0.3086 - acc: 0.9907 - val_loss: 1.5503 - val_acc: 0.5000\n",
            "Epoch 53/100\n",
            "108/108 [==============================] - 0s 242us/step - loss: 0.3047 - acc: 0.9815 - val_loss: 1.5462 - val_acc: 0.5000\n",
            "Epoch 54/100\n",
            "108/108 [==============================] - 0s 228us/step - loss: 0.3046 - acc: 0.9815 - val_loss: 1.5489 - val_acc: 0.5357\n",
            "Epoch 55/100\n",
            "108/108 [==============================] - 0s 194us/step - loss: 0.2990 - acc: 0.9907 - val_loss: 1.5577 - val_acc: 0.5357\n",
            "Epoch 56/100\n",
            "108/108 [==============================] - 0s 235us/step - loss: 0.3063 - acc: 0.9722 - val_loss: 1.5660 - val_acc: 0.5714\n",
            "Epoch 57/100\n",
            "108/108 [==============================] - 0s 213us/step - loss: 0.2964 - acc: 0.9722 - val_loss: 1.5799 - val_acc: 0.5357\n",
            "Epoch 58/100\n",
            "108/108 [==============================] - 0s 202us/step - loss: 0.2802 - acc: 1.0000 - val_loss: 1.5996 - val_acc: 0.5357\n",
            "Epoch 59/100\n",
            "108/108 [==============================] - 0s 189us/step - loss: 0.3062 - acc: 0.9630 - val_loss: 1.6180 - val_acc: 0.5357\n",
            "Epoch 60/100\n",
            "108/108 [==============================] - 0s 232us/step - loss: 0.2882 - acc: 0.9907 - val_loss: 1.6371 - val_acc: 0.5714\n",
            "Epoch 61/100\n",
            "108/108 [==============================] - 0s 200us/step - loss: 0.2937 - acc: 0.9907 - val_loss: 1.6576 - val_acc: 0.5357\n",
            "Epoch 62/100\n",
            "108/108 [==============================] - 0s 206us/step - loss: 0.2819 - acc: 1.0000 - val_loss: 1.6770 - val_acc: 0.5000\n",
            "Epoch 63/100\n",
            "108/108 [==============================] - 0s 208us/step - loss: 0.2881 - acc: 0.9907 - val_loss: 1.6823 - val_acc: 0.5357\n",
            "Epoch 64/100\n",
            "108/108 [==============================] - 0s 210us/step - loss: 0.2828 - acc: 0.9907 - val_loss: 1.6773 - val_acc: 0.5714\n",
            "Epoch 65/100\n",
            "108/108 [==============================] - 0s 209us/step - loss: 0.2768 - acc: 0.9907 - val_loss: 1.6725 - val_acc: 0.5714\n",
            "Epoch 66/100\n",
            "108/108 [==============================] - 0s 241us/step - loss: 0.2640 - acc: 1.0000 - val_loss: 1.6658 - val_acc: 0.5357\n",
            "Epoch 67/100\n",
            "108/108 [==============================] - 0s 215us/step - loss: 0.2774 - acc: 0.9815 - val_loss: 1.6369 - val_acc: 0.5000\n",
            "Epoch 68/100\n",
            "108/108 [==============================] - 0s 209us/step - loss: 0.2847 - acc: 0.9907 - val_loss: 1.6048 - val_acc: 0.5000\n",
            "Epoch 69/100\n",
            "108/108 [==============================] - 0s 215us/step - loss: 0.2695 - acc: 1.0000 - val_loss: 1.5939 - val_acc: 0.4643\n",
            "Epoch 70/100\n",
            "108/108 [==============================] - 0s 254us/step - loss: 0.2693 - acc: 0.9907 - val_loss: 1.5937 - val_acc: 0.5000\n",
            "Epoch 71/100\n",
            "108/108 [==============================] - 0s 237us/step - loss: 0.2663 - acc: 0.9907 - val_loss: 1.5990 - val_acc: 0.5000\n",
            "Epoch 72/100\n",
            "108/108 [==============================] - 0s 205us/step - loss: 0.2617 - acc: 1.0000 - val_loss: 1.6035 - val_acc: 0.5000\n",
            "Epoch 73/100\n",
            "108/108 [==============================] - 0s 227us/step - loss: 0.2640 - acc: 0.9907 - val_loss: 1.6161 - val_acc: 0.5000\n",
            "Epoch 74/100\n",
            "108/108 [==============================] - 0s 230us/step - loss: 0.2575 - acc: 1.0000 - val_loss: 1.6326 - val_acc: 0.4643\n",
            "Epoch 75/100\n",
            "108/108 [==============================] - 0s 243us/step - loss: 0.2850 - acc: 0.9815 - val_loss: 1.6567 - val_acc: 0.4643\n",
            "Epoch 76/100\n",
            "108/108 [==============================] - 0s 217us/step - loss: 0.2484 - acc: 1.0000 - val_loss: 1.6797 - val_acc: 0.4643\n",
            "Epoch 77/100\n",
            "108/108 [==============================] - 0s 209us/step - loss: 0.2494 - acc: 1.0000 - val_loss: 1.7009 - val_acc: 0.4643\n",
            "Epoch 78/100\n",
            "108/108 [==============================] - 0s 221us/step - loss: 0.2546 - acc: 0.9815 - val_loss: 1.7117 - val_acc: 0.4643\n",
            "Epoch 79/100\n",
            "108/108 [==============================] - 0s 217us/step - loss: 0.2546 - acc: 0.9907 - val_loss: 1.7157 - val_acc: 0.4643\n",
            "Epoch 80/100\n",
            "108/108 [==============================] - 0s 239us/step - loss: 0.2680 - acc: 0.9815 - val_loss: 1.7195 - val_acc: 0.4643\n",
            "Epoch 81/100\n",
            "108/108 [==============================] - 0s 241us/step - loss: 0.2517 - acc: 0.9907 - val_loss: 1.7230 - val_acc: 0.5000\n",
            "Epoch 82/100\n",
            "108/108 [==============================] - 0s 223us/step - loss: 0.2385 - acc: 1.0000 - val_loss: 1.7285 - val_acc: 0.5000\n",
            "Epoch 83/100\n",
            "108/108 [==============================] - 0s 219us/step - loss: 0.2462 - acc: 0.9907 - val_loss: 1.7298 - val_acc: 0.5000\n",
            "Epoch 84/100\n",
            "108/108 [==============================] - 0s 331us/step - loss: 0.2422 - acc: 1.0000 - val_loss: 1.7221 - val_acc: 0.4643\n",
            "Epoch 85/100\n",
            "108/108 [==============================] - 0s 239us/step - loss: 0.2491 - acc: 0.9815 - val_loss: 1.7179 - val_acc: 0.4643\n",
            "Epoch 86/100\n",
            "108/108 [==============================] - 0s 265us/step - loss: 0.2378 - acc: 1.0000 - val_loss: 1.7163 - val_acc: 0.4643\n",
            "Epoch 87/100\n",
            "108/108 [==============================] - 0s 196us/step - loss: 0.2415 - acc: 0.9907 - val_loss: 1.7162 - val_acc: 0.5000\n",
            "Epoch 88/100\n",
            "108/108 [==============================] - 0s 234us/step - loss: 0.2348 - acc: 1.0000 - val_loss: 1.7157 - val_acc: 0.5000\n",
            "Epoch 89/100\n",
            "108/108 [==============================] - 0s 208us/step - loss: 0.2343 - acc: 0.9907 - val_loss: 1.7142 - val_acc: 0.5000\n",
            "Epoch 90/100\n",
            "108/108 [==============================] - 0s 215us/step - loss: 0.2281 - acc: 0.9907 - val_loss: 1.7093 - val_acc: 0.5000\n",
            "Epoch 91/100\n",
            "108/108 [==============================] - 0s 216us/step - loss: 0.2326 - acc: 1.0000 - val_loss: 1.7101 - val_acc: 0.5000\n",
            "Epoch 92/100\n",
            "108/108 [==============================] - 0s 209us/step - loss: 0.2496 - acc: 0.9815 - val_loss: 1.7215 - val_acc: 0.5000\n",
            "Epoch 93/100\n",
            "108/108 [==============================] - 0s 219us/step - loss: 0.2379 - acc: 0.9815 - val_loss: 1.7263 - val_acc: 0.5000\n",
            "Epoch 94/100\n",
            "108/108 [==============================] - 0s 220us/step - loss: 0.2314 - acc: 0.9907 - val_loss: 1.7234 - val_acc: 0.5000\n",
            "Epoch 95/100\n",
            "108/108 [==============================] - 0s 208us/step - loss: 0.2341 - acc: 0.9815 - val_loss: 1.7196 - val_acc: 0.5000\n",
            "Epoch 96/100\n",
            "108/108 [==============================] - 0s 250us/step - loss: 0.2481 - acc: 0.9815 - val_loss: 1.6899 - val_acc: 0.5000\n",
            "Epoch 97/100\n",
            "108/108 [==============================] - 0s 219us/step - loss: 0.2263 - acc: 0.9907 - val_loss: 1.6654 - val_acc: 0.5000\n",
            "Epoch 98/100\n",
            "108/108 [==============================] - 0s 211us/step - loss: 0.2397 - acc: 0.9722 - val_loss: 1.6423 - val_acc: 0.4643\n",
            "Epoch 99/100\n",
            "108/108 [==============================] - 0s 214us/step - loss: 0.2175 - acc: 1.0000 - val_loss: 1.6298 - val_acc: 0.4643\n",
            "Epoch 100/100\n",
            "108/108 [==============================] - 0s 208us/step - loss: 0.2247 - acc: 0.9907 - val_loss: 1.6220 - val_acc: 0.4643\n",
            "_________________________________________________________________\n",
            "Layer (type)                 Output Shape              Param #   \n",
            "=================================================================\n",
            "flatten_36 (Flatten)         (None, 9604)              0         \n",
            "_________________________________________________________________\n",
            "dense_108 (Dense)            (None, 10)                96050     \n",
            "_________________________________________________________________\n",
            "dropout_21 (Dropout)         (None, 10)                0         \n",
            "_________________________________________________________________\n",
            "dense_109 (Dense)            (None, 4)                 44        \n",
            "_________________________________________________________________\n",
            "dense_110 (Dense)            (None, 10)                50        \n",
            "_________________________________________________________________\n",
            "dense_111 (Dense)            (None, 2)                 22        \n",
            "=================================================================\n",
            "Total params: 96,166\n",
            "Trainable params: 96,166\n",
            "Non-trainable params: 0\n",
            "_________________________________________________________________\n",
            "dict_keys(['val_loss', 'val_acc', 'loss', 'acc'])\n"
          ],
          "name": "stdout"
        },
        {
          "output_type": "display_data",
          "data": {
            "image/png": "[encoded data removed]",
            "text/plain": [
              "<Figure size 432x288 with 1 Axes>"
            ]
          },
          "metadata": {
            "tags": []
          }
        },
        {
          "output_type": "display_data",
          "data": {
            "image/png": "[encoded data removed]",
            "text/plain": [
              "<Figure size 432x288 with 1 Axes>"
            ]
          },
          "metadata": {
            "tags": []
          }
        }
      ]
    }
  ]
}